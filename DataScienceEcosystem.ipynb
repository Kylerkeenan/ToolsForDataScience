{
 "cells": [
  {
   "cell_type": "markdown",
   "id": "4112ba78-05ca-46ca-a6a0-7f8fb67162c7",
   "metadata": {},
   "source": [
    "# Data Science Tools and Ecosystem"
   ]
  },
  {
   "cell_type": "markdown",
   "id": "348dc3aa-4451-41a4-a950-eb35a3cab9fa",
   "metadata": {},
   "source": [
    "### In this notebook, Data Science Tools and Ecosystem are summarized. "
   ]
  },
  {
   "cell_type": "markdown",
   "id": "81ce9ab8-cbed-4d00-a005-c0286d1c1bbf",
   "metadata": {},
   "source": [
    "### **Objectives:**\n",
    "- List popular languages for Data Science\n",
    "- List some of the commonly used libraries used by Data Scientists\n",
    "- List some data science tools\n",
    "- Show some simple arithmetic expressions in Python"
   ]
  },
  {
   "cell_type": "markdown",
   "id": "91f8f3aa-1f26-495d-8d6e-eec6c04d14d2",
   "metadata": {},
   "source": [
    "Some of the popular languages that Data Scientists use are: \n",
    "1. Python\n",
    "2. R\n",
    "3. SQL"
   ]
  },
  {
   "cell_type": "markdown",
   "id": "ebff88b4-852c-46a6-a70e-da4ac015fed8",
   "metadata": {},
   "source": [
    "Some of the commonly used libraries used by Data Scientists include: \n",
    "1. pandas\n",
    "2. NumPy\n",
    "3. Matplotlib"
   ]
  },
  {
   "cell_type": "markdown",
   "id": "b8eebdec-2136-4e42-abf9-7bd9a00478a0",
   "metadata": {},
   "source": [
    "|Data Science Tools |\n",
    "| ----------------- |\n",
    "|Jupyter            |\n",
    "|Apache Zeplin      |\n",
    "|RStudio            |"
   ]
  },
  {
   "cell_type": "markdown",
   "id": "85fd9622-0e94-4899-894e-c193f7b97d66",
   "metadata": {},
   "source": [
    "### Below are a few examples of evaluating arithmetic expression in Python. "
   ]
  },
  {
   "cell_type": "code",
   "execution_count": 15,
   "id": "0a28b6ee-9f4e-43e7-a3fc-66576bc3b3bf",
   "metadata": {},
   "outputs": [
    {
     "data": {
      "text/plain": [
       "17"
      ]
     },
     "execution_count": 15,
     "metadata": {},
     "output_type": "execute_result"
    }
   ],
   "source": [
    "# This is a simple arithmetic expression to multiply then add integers\n",
    "(3*4) + 5"
   ]
  },
  {
   "cell_type": "code",
   "execution_count": 17,
   "id": "fd6a90a1-78cd-4c1f-b2f5-4184ad6a4937",
   "metadata": {},
   "outputs": [
    {
     "data": {
      "text/plain": [
       "3.3333333333333335"
      ]
     },
     "execution_count": 17,
     "metadata": {},
     "output_type": "execute_result"
    }
   ],
   "source": [
    "# This will convert 200 minutes to hours by dividing by 60\n",
    "200 / 60"
   ]
  },
  {
   "cell_type": "markdown",
   "id": "4b99402c-c9f0-44c5-b07b-829af29da29c",
   "metadata": {},
   "source": [
    "## Author\n",
    "Kyler Keenan"
   ]
  },
  {
   "cell_type": "code",
   "execution_count": null,
   "id": "5c9df01d-16d4-4ce7-9de3-2a9bc6b4b0bc",
   "metadata": {},
   "outputs": [],
   "source": []
  }
 ],
 "metadata": {
  "kernelspec": {
   "display_name": "Python 3 (ipykernel)",
   "language": "python",
   "name": "python3"
  },
  "language_info": {
   "codemirror_mode": {
    "name": "ipython",
    "version": 3
   },
   "file_extension": ".py",
   "mimetype": "text/x-python",
   "name": "python",
   "nbconvert_exporter": "python",
   "pygments_lexer": "ipython3",
   "version": "3.12.4"
  }
 },
 "nbformat": 4,
 "nbformat_minor": 5
}
